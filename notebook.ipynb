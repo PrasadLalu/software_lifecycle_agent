{
 "cells": [
  {
   "cell_type": "markdown",
   "metadata": {},
   "source": [
    "## Software Life Cycle "
   ]
  },
  {
   "cell_type": "code",
   "execution_count": 1,
   "metadata": {},
   "outputs": [
    {
     "data": {
      "text/plain": [
       "True"
      ]
     },
     "execution_count": 1,
     "metadata": {},
     "output_type": "execute_result"
    }
   ],
   "source": [
    "import os\n",
    "from dotenv import load_dotenv\n",
    "\n",
    "# Load env vars\n",
    "load_dotenv()"
   ]
  },
  {
   "cell_type": "code",
   "execution_count": 2,
   "metadata": {},
   "outputs": [
    {
     "data": {
      "text/plain": [
       "ChatGroq(client=<groq.resources.chat.completions.Completions object at 0x750f44f88460>, async_client=<groq.resources.chat.completions.AsyncCompletions object at 0x750f44f89810>, model_name='llama3-70b-8192', model_kwargs={}, groq_api_key=SecretStr('**********'))"
      ]
     },
     "execution_count": 2,
     "metadata": {},
     "output_type": "execute_result"
    }
   ],
   "source": [
    "from langchain_groq import ChatGroq\n",
    "\n",
    "# Initialize Llama model\n",
    "llm = ChatGroq(model=\"llama3-70b-8192\")\n",
    "llm"
   ]
  },
  {
   "cell_type": "code",
   "execution_count": 4,
   "metadata": {},
   "outputs": [],
   "source": [
    "from typing import List\n",
    "from pydantic import BaseModel, Field\n",
    "\n",
    "\n",
    "class UserStory(BaseModel):\n",
    "    title: str = Field(\n",
    "        description=\"Title of the user story summarizing the functionality.\"\n",
    "    )\n",
    "    description: str = Field(\n",
    "        description=\"Detailed user story following the format: 'As a [user], I want to [action] so that [benefit]'.\"\n",
    "    )\n",
    "    acceptance_criteria: List[str] = Field(\n",
    "        description=\"List of acceptance criteria that define when this story is complete.\"\n",
    "    )\n",
    "\n",
    "\n",
    "class UserStories(BaseModel):\n",
    "    stories: List[UserStory] = Field(\n",
    "        default_factory=list, description=\"List of generated user stories.\"\n",
    "    )\n",
    "    \n",
    "user_story_evaluator = llm.with_structured_output(UserStories)"
   ]
  },
  {
   "cell_type": "code",
   "execution_count": 5,
   "metadata": {},
   "outputs": [],
   "source": [
    "from typing_extensions import TypedDict\n",
    "from src.state.user_stories import UserStories\n",
    "\n",
    "\n",
    "class LifeCycleState(TypedDict):\n",
    "    prompt: str\n",
    "    user_stories: UserStories"
   ]
  },
  {
   "cell_type": "code",
   "execution_count": 7,
   "metadata": {},
   "outputs": [],
   "source": [
    "# Nodes\n",
    "def get_user_requirement(state: LifeCycleState):\n",
    "    \"\"\"Generates structured user stories from user requirements using the `UserStories` schema.\"\"\"\n",
    "    result = user_story_evaluator.invoke(\n",
    "        f\"Split the following requirements into distinct user stories. \"\n",
    "        f\"Each user story should include a title, description, and acceptance criteria: {state['prompt']}\"\n",
    "    )\n",
    "    return {\"user_stories\": result}"
   ]
  },
  {
   "cell_type": "code",
   "execution_count": 9,
   "metadata": {},
   "outputs": [
    {
     "data": {
      "image/png": "[encoded data removed]",
      "text/plain": [
       "<langgraph.graph.state.CompiledStateGraph object at 0x750f44eee8f0>"
      ]
     },
     "execution_count": 9,
     "metadata": {},
     "output_type": "execute_result"
    }
   ],
   "source": [
    "from langgraph.graph import StateGraph, START, END\n",
    "\n",
    "# Build Workflow\n",
    "workflow_builder = StateGraph(LifeCycleState)\n",
    "\n",
    "# Add nodes\n",
    "workflow_builder.add_node(\"user_requirement\", get_user_requirement)\n",
    "\n",
    "# Add edges to connect nodes\n",
    "workflow_builder.add_edge(START, \"user_requirement\")\n",
    "workflow_builder.add_edge(\"user_requirement\", END)\n",
    "\n",
    "# Compile\n",
    "workflow = workflow_builder.compile()\n",
    "workflow"
   ]
  },
  {
   "cell_type": "code",
   "execution_count": null,
   "metadata": {},
   "outputs": [],
   "source": []
  }
 ],
 "metadata": {
  "kernelspec": {
   "display_name": "Python 3",
   "language": "python",
   "name": "python3"
  },
  "language_info": {
   "codemirror_mode": {
    "name": "ipython",
    "version": 3
   },
   "file_extension": ".py",
   "mimetype": "text/x-python",
   "name": "python",
   "nbconvert_exporter": "python",
   "pygments_lexer": "ipython3",
   "version": "3.10.16"
  }
 },
 "nbformat": 4,
 "nbformat_minor": 2
}
